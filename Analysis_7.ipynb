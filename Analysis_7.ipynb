{
 "cells": [
  {
   "cell_type": "code",
   "execution_count": 1,
   "metadata": {},
   "outputs": [],
   "source": [
    "import numpy as np\n",
    "import pandas as pd\n",
    "import matplotlib.pyplot as plt\n",
    "import matplotlib as mpl\n",
    "import pandas_profiling as pp\n",
    "import seaborn as sns\n",
    "import phik\n",
    "\n",
    "from sklearn.model_selection import train_test_split\n",
    "from sklearn.linear_model import LinearRegression, SGDRegressor\n",
    "from sklearn.metrics import r2_score\n",
    "from sklearn.preprocessing import StandardScaler\n",
    "from sklearn.model_selection import GridSearchCV\n",
    "from sklearn.svm import SVR\n",
    "\n",
    "plt.style.use('ggplot')"
   ]
  },
  {
   "cell_type": "code",
   "execution_count": 2,
   "metadata": {},
   "outputs": [
    {
     "name": "stdout",
     "output_type": "stream",
     "text": [
      "R2 score: 0.8320597532023871\n"
     ]
    }
   ],
   "source": [
    "data = pd.read_csv('data/train_clean.csv')\n",
    "data.head()\n",
    "\n",
    "X = data.drop('SalePrice', axis=1)\n",
    "y = data['SalePrice']\n",
    "\n",
    "X_train, X_test, y_train, y_test = train_test_split(X, y, test_size=0.3, \n",
    "                                                    random_state=100)\n",
    "\n",
    "scaler = StandardScaler()\n",
    "X_train_std = scaler.fit_transform(X_train)\n",
    "X_test_std = scaler.transform(X_test)\n",
    "\n",
    "scaler = StandardScaler()\n",
    "X_std = scaler.fit_transform(X)\n",
    "\n",
    "lin_reg = LinearRegression()\n",
    "lin_reg.fit(X_train_std, y_train)\n",
    "\n",
    "lin_r2 = r2_score(y_test, lin_reg.predict(X_test_std))\n",
    "print(f'R2 score: {lin_r2}')"
   ]
  },
  {
   "cell_type": "code",
   "execution_count": 4,
   "metadata": {},
   "outputs": [],
   "source": [
    "param_grid = {\n",
    "        \"penalty\": [\"l2\", \"l1\", \"elasticnet\"],\n",
    "        \"alpha\": [10 ** i for i in range(-9, -5)],\n",
    "        \"learning_rate\": [\"constant\", \"adaptive\", \"optimal\", \"invscaling\"]\n",
    "    }\n",
    "\n",
    "    sgd_reg = SGDRegressor(max_iter=10_000)\n",
    "\n",
    "    grid = GridSearchCV(sgd_reg, param_grid, cv=5, verbose=1)\n",
    "    grid.fit(X_train_std, y_train)\n",
    "\n",
    "    print(grid.best_score_)\n",
    "    print(grid.best_params_)"
   ]
  },
  {
   "cell_type": "code",
   "execution_count": 5,
   "metadata": {},
   "outputs": [
    {
     "name": "stdout",
     "output_type": "stream",
     "text": [
      "0.8241024353784401\n",
      "0.8320597532023871\n"
     ]
    }
   ],
   "source": [
    "best_params = {\n",
    "    'alpha': 1e-08, \n",
    "    'learning_rate': 'invscaling', \n",
    "    'penalty': 'elasticnet'\n",
    "}\n",
    "\n",
    "# sgd_reg = SGDRegressor(max_iter=10_000, **grid.best_params_)\n",
    "sgd_reg = SGDRegressor(max_iter=10_000, **best_params)\n",
    "sgd_reg.fit(X_train_std, y_train)\n",
    "sgd_r2 = r2_score(y_test, sgd_reg.predict(X_test_std))\n",
    "print(sgd_r2)\n",
    "print(lin_r2)"
   ]
  },
  {
   "cell_type": "code",
   "execution_count": 6,
   "metadata": {},
   "outputs": [
    {
     "data": {
      "text/plain": [
       "[<matplotlib.lines.Line2D at 0x7f6805ca8e50>]"
      ]
     },
     "execution_count": 6,
     "metadata": {},
     "output_type": "execute_result"
    },
    {
     "data": {
      "image/png": "[encoded data removed]",
      "text/plain": [
       "<Figure size 432x288 with 1 Axes>"
      ]
     },
     "metadata": {
      "needs_background": "light"
     },
     "output_type": "display_data"
    }
   ],
   "source": [
    "plt.plot(lin_reg.coef_, sgd_reg.coef_, 'ro')"
   ]
  },
  {
   "cell_type": "code",
   "execution_count": 7,
   "metadata": {},
   "outputs": [
    {
     "data": {
      "text/plain": [
       "array([ 5000.,  7500., 10000.])"
      ]
     },
     "execution_count": 7,
     "metadata": {},
     "output_type": "execute_result"
    }
   ],
   "source": [
    "np.linspace(5_000, 10_000, 3)"
   ]
  },
  {
   "cell_type": "code",
   "execution_count": 8,
   "metadata": {},
   "outputs": [
    {
     "name": "stdout",
     "output_type": "stream",
     "text": [
      "Fitting 5 folds for each of 100 candidates, totalling 500 fits\n"
     ]
    },
    {
     "name": "stderr",
     "output_type": "stream",
     "text": [
      "[Parallel(n_jobs=1)]: Using backend SequentialBackend with 1 concurrent workers.\n",
      "[Parallel(n_jobs=1)]: Done 500 out of 500 | elapsed:   30.5s finished\n"
     ]
    },
    {
     "data": {
      "text/plain": [
       "GridSearchCV(cv=5, estimator=SVR(kernel='linear'),\n",
       "             param_grid={'C': range(350, 400, 5),\n",
       "                         'epsilon': array([2500.        , 2555.55555556, 2611.11111111, 2666.66666667,\n",
       "       2722.22222222, 2777.77777778, 2833.33333333, 2888.88888889,\n",
       "       2944.44444444, 3000.        ])},\n",
       "             verbose=1)"
      ]
     },
     "execution_count": 8,
     "metadata": {},
     "output_type": "execute_result"
    }
   ],
   "source": [
    "param_grid = {\n",
    "    \"C\": range(350, 400, 5),\n",
    "    \"epsilon\": np.linspace(2_500, 3_000, 10)\n",
    "}\n",
    "\n",
    "svr = SVR(kernel='linear')\n",
    "\n",
    "grid = GridSearchCV(svr, param_grid, cv=5, verbose=1)\n",
    "grid.fit(X_train_std, y_train)"
   ]
  },
  {
   "cell_type": "code",
   "execution_count": 9,
   "metadata": {},
   "outputs": [
    {
     "name": "stdout",
     "output_type": "stream",
     "text": [
      "{'C': 360, 'epsilon': 2888.8888888888887}\n",
      "0.7974196958535714\n"
     ]
    }
   ],
   "source": [
    "print(grid.best_params_)\n",
    "print(grid.best_score_)"
   ]
  },
  {
   "cell_type": "code",
   "execution_count": 13,
   "metadata": {},
   "outputs": [],
   "source": [
    "svr = SVR(kernel='linear', **grid.best_params_)\n",
    "svr.fit(X_train_std, y_train)\n",
    "svr_r2 = r2_score(y_test, svr.predict(X_test_std))"
   ]
  },
  {
   "cell_type": "code",
   "execution_count": 14,
   "metadata": {},
   "outputs": [
    {
     "name": "stdout",
     "output_type": "stream",
     "text": [
      "Linear regression: 0.8320597532023871\n",
      "SGD regression: 0.8241024353784401\n",
      "SVR: 0.8362923115756742\n"
     ]
    }
   ],
   "source": [
    "print(f'Linear regression: {lin_r2}')\n",
    "print(f'SGD regression: {sgd_r2}')\n",
    "print(f'SVR: {svr_r2}')"
   ]
  }
 ],
 "metadata": {
  "kernelspec": {
   "display_name": "Python 3",
   "language": "python",
   "name": "python3"
  },
  "language_info": {
   "codemirror_mode": {
    "name": "ipython",
    "version": 3
   },
   "file_extension": ".py",
   "mimetype": "text/x-python",
   "name": "python",
   "nbconvert_exporter": "python",
   "pygments_lexer": "ipython3",
   "version": "3.8.5"
  }
 },
 "nbformat": 4,
 "nbformat_minor": 4
}
